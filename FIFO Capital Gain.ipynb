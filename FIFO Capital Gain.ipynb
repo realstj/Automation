{
 "cells": [
  {
   "cell_type": "markdown",
   "id": "27807804",
   "metadata": {},
   "source": [
    "# Stock capital gain calculation\n",
    "## First in First out law (FIFO)"
   ]
  },
  {
   "cell_type": "markdown",
   "id": "e9ecca13",
   "metadata": {},
   "source": [
    "### - Import libraries"
   ]
  },
  {
   "cell_type": "code",
   "execution_count": null,
   "id": "d9f919d3",
   "metadata": {},
   "outputs": [],
   "source": [
    "import pandas as pd"
   ]
  },
  {
   "cell_type": "markdown",
   "id": "0d1f4376",
   "metadata": {},
   "source": [
    "### - read excel files"
   ]
  },
  {
   "cell_type": "code",
   "execution_count": null,
   "id": "e0940ca5",
   "metadata": {
    "scrolled": true
   },
   "outputs": [],
   "source": [
    "df = pd.read_excel(\"tax_2021.xlsx\", sheet_name=\"Sheet2\")\n",
    "df.head()"
   ]
  },
  {
   "cell_type": "markdown",
   "id": "2bd19c74",
   "metadata": {},
   "source": [
    "### Extract required data "
   ]
  },
  {
   "cell_type": "code",
   "execution_count": null,
   "id": "62882338",
   "metadata": {
    "scrolled": true
   },
   "outputs": [],
   "source": [
    "df_1 = pd.read_excel(\"tax_2021.xlsx\", sheet_name=\"Sheet2\", skiprows=1, nrows=9)\n",
    "df_1.drop(columns=['Company', 'Unit Price ($)', 'Trade Value ($)', 'Brokerage+GST ($)', 'GST ($)', 'Contract Note'], inplace=True)\n",
    "df_1['Unit Value ($)'] = df_1['Total Value ($)'] / df_1['Quantity']\n",
    "\n",
    "df_1"
   ]
  },
  {
   "cell_type": "code",
   "execution_count": null,
   "id": "20671297",
   "metadata": {
    "scrolled": false
   },
   "outputs": [],
   "source": [
    "df_2= pd.read_excel(\"tax_2021.xlsx\", sheet_name=\"Sheet2\", skiprows=12, nrows=4)\n",
    "df_2.drop(columns=['Company', 'Unit Price ($)', 'Trade Value ($)', 'Brokerage+GST ($)', 'GST ($)', 'Contract Note'], inplace=True)\n",
    "df_2['Unit Value ($)'] = df_2['Total Value ($)'] / df_2['Quantity']\n",
    "df_2"
   ]
  },
  {
   "cell_type": "code",
   "execution_count": null,
   "id": "8f8b783e",
   "metadata": {},
   "outputs": [],
   "source": [
    "df_3= pd.read_excel(\"tax_2021.xlsx\", sheet_name=\"Sheet2\", skiprows=21, nrows=3)\n",
    "df_3.drop(columns=['Company', 'Unit Price ($)', 'Trade Value ($)', 'Brokerage+GST ($)', 'GST ($)', 'Contract Note'], inplace=True)\n",
    "df_3['Unit Value ($)'] = df_3['Total Value ($)'] / df_3['Quantity']\n",
    "df_3"
   ]
  },
  {
   "cell_type": "code",
   "execution_count": null,
   "id": "89b94742",
   "metadata": {},
   "outputs": [],
   "source": [
    "df_4= pd.read_excel(\"tax_2021.xlsx\", sheet_name=\"Sheet2\", skiprows=27, nrows=17)\n",
    "df_4.drop(columns=['Company', 'Unit Price ($)', 'Trade Value ($)', 'Brokerage+GST ($)', 'GST ($)', 'Contract Note'], inplace=True)\n",
    "df_4['Unit Value ($)'] = df_4['Total Value ($)'] / df_4['Quantity']\n",
    "df_4"
   ]
  },
  {
   "cell_type": "markdown",
   "id": "1fa2eefa",
   "metadata": {},
   "source": [
    "## Concatenate 2020-2021 Data "
   ]
  },
  {
   "cell_type": "code",
   "execution_count": null,
   "id": "0ca7d7d2",
   "metadata": {
    "scrolled": true
   },
   "outputs": [],
   "source": [
    "df = pd.concat([df_1, df_2, df_3, df_4], axis=0) # Concatenate 2020 and 2021 data into a table\n",
    "df['Date'] = pd.to_datetime(df['Date'], dayfirst=True) # Date : String to datetime format\n",
    "df.sort_values(['Code', 'Date'], ascending=True, inplace=True) # Sorting multiple names [Code, Date]\n",
    "df.reset_index(drop=True, inplace=True) # Reset index from 0\n",
    "df"
   ]
  },
  {
   "cell_type": "markdown",
   "id": "cc828e6b",
   "metadata": {},
   "source": [
    "## Divide the dataframe by Stock Code"
   ]
  },
  {
   "cell_type": "code",
   "execution_count": null,
   "id": "3e5e0cd7",
   "metadata": {},
   "outputs": [],
   "source": [
    "mask1 = df['Code'] == 'MQG'\n",
    "mask2 = df['Code'] == 'OSH'\n",
    "mask3 = df['Code'] == 'IOZ'\n",
    "mask4 = df['Code'] == 'NDQ'\n",
    "mask5 = df['Code'] == 'SYI'\n",
    "mask6 = df['Code'] == 'ETHI'"
   ]
  },
  {
   "cell_type": "code",
   "execution_count": null,
   "id": "7d7d95bc",
   "metadata": {},
   "outputs": [],
   "source": [
    "df1 = df[mask1]\n",
    "df1.reset_index(drop=True, inplace=True)\n",
    "df1"
   ]
  },
  {
   "cell_type": "code",
   "execution_count": null,
   "id": "863658bf",
   "metadata": {
    "scrolled": false
   },
   "outputs": [],
   "source": [
    "df2 = df[mask2]\n",
    "df2.reset_index(drop=True, inplace=True)\n",
    "df2"
   ]
  },
  {
   "cell_type": "code",
   "execution_count": null,
   "id": "910e0a7a",
   "metadata": {},
   "outputs": [],
   "source": [
    "df3 = df[mask3]\n",
    "df3.reset_index(drop=True, inplace=True)\n",
    "df3"
   ]
  },
  {
   "cell_type": "code",
   "execution_count": null,
   "id": "22a023dc",
   "metadata": {},
   "outputs": [],
   "source": [
    "df4 = df[mask4]\n",
    "df4.reset_index(drop=True, inplace=True)\n",
    "df4"
   ]
  },
  {
   "cell_type": "code",
   "execution_count": null,
   "id": "489198b9",
   "metadata": {},
   "outputs": [],
   "source": [
    "df5 = df[mask5]\n",
    "df5.reset_index(drop=True, inplace=True)\n",
    "df5"
   ]
  },
  {
   "cell_type": "code",
   "execution_count": null,
   "id": "ae70dd66",
   "metadata": {},
   "outputs": [],
   "source": [
    "df6 = df[mask6]\n",
    "df6.reset_index(drop=True, inplace=True)\n",
    "df6"
   ]
  },
  {
   "cell_type": "markdown",
   "id": "109dff53",
   "metadata": {},
   "source": [
    "## Gain caluculation"
   ]
  },
  {
   "cell_type": "code",
   "execution_count": null,
   "id": "04e0100c",
   "metadata": {},
   "outputs": [],
   "source": [
    "import logging\n",
    "from collections import deque\n",
    "import math\n",
    "\n",
    "class Trans:\n",
    "    datetime=None\n",
    "    amount=None\n",
    "    price=None\n",
    " \n",
    "    def __init__(self, datetime, amount, price):\n",
    "        self.datetime=datetime\n",
    "        self.amount=amount\n",
    "        self.price=price\n",
    "     \n",
    "    def getInfo(self):\n",
    "        return(str(self.datetime)+\"; \"+\n",
    "                str(self.amount)+\"; \"+\n",
    "                str(self.price))+\"; \"\n",
    " \n",
    "def balanceFifo(all_trans):\n",
    " \n",
    "    qTransactions = deque() \n",
    "    trans_result = list()\n",
    " \n",
    "    for t in all_trans:\n",
    "        #Add first element to the queue\n",
    "        if len(qTransactions)==0:\n",
    "            #logging.debug('Added the first element: %s',t.getInfo())\n",
    "            qTransactions.append(t)\n",
    "            continue\n",
    " \n",
    "        while (t.amount!=0 and len(qTransactions)>0):\n",
    "            #investigate the first element from the queue\n",
    "            tq=qTransactions.popleft()\n",
    "            #the same type of transaction: both sell or both buy\n",
    "            if tq.amount*t.amount>0:\n",
    "                #return the first element back to the same place\n",
    "                qTransactions.appendleft(tq)\n",
    "                #add the new element to the list\n",
    "                qTransactions.append(t)\n",
    "                #logging.debug('Added: %s',t.getInfo())\n",
    "                break\n",
    "             \n",
    "            #contrary transactions: (sell and buy) or (buy and sell) \n",
    "            if tq.amount*t.amount<0:\n",
    "                #logging.debug('Transaction : %s',t.getInfo())\n",
    "                #logging.debug('... try to balance with: %s',tq.getInfo())\n",
    " \n",
    "                #The element in the queue have more units and takes in the current transaction\n",
    "                if abs(tq.amount)>abs(t.amount):\n",
    "                    result = insertTransaction(tq.datetime,t.datetime,\\\n",
    "                            math.copysign(t.amount,tq.amount), tq.price,t.price)\n",
    "                    trans_result.append(result)\n",
    "                    \n",
    "                    #update the amount of the element in the queue\n",
    "                    tq.amount=tq.amount+t.amount\n",
    "                    #return the element back to the same place\n",
    "                    qTransactions.appendleft(tq)\n",
    "                    #logging.debug('Removed transaction: %s',t.getInfo())\n",
    "                    #the transaction has been balanced, take a new transaction\n",
    "                    break\n",
    "                 \n",
    "                #The element from the queue and transaction have the same amount of units\n",
    "                if abs(tq.amount)==abs(t.amount):\n",
    "                    result = insertTransaction(tq.datetime,t.datetime,\\\n",
    "                                math.copysign(t.amount,tq.amount), tq.price,t.price)\n",
    "                    trans_result.append(result)\n",
    "                    \n",
    "                    #update the amount in the transaction \n",
    "                    t.amount=0\n",
    "                    #logging.debug('Balanced, removed transaction: %s',t.getInfo())\n",
    "                    #logging.debug('Balanced, removed from the queue: %s',tq.getInfo())\n",
    "                    #the transaction has been balanced, take a new transaction\n",
    "                    continue\n",
    "                    \n",
    "                #The transaction has more units\n",
    "                if abs(tq.amount)<abs(t.amount):\n",
    "                    #update the units in transaction, (remove element from the queue)\n",
    "                    t.amount=t.amount+tq.amount\n",
    "                    result = insertTransaction(tq.datetime,t.datetime,tq.amount,tq.price,t.price)\n",
    "                    trans_result.append(result)\n",
    "                    #logging.debug('Removed from queue: %s',tq.getInfo())\n",
    "                     \n",
    "                    #the transaction has not been balanced, \n",
    "                    #take a new element from the queue (t.amount>0)\n",
    "                    continue\n",
    "                 \n",
    "        #We have unbalanced transaction but the queue is empty            \n",
    "        if (t.amount!=0 and len(qTransactions)==0):\n",
    "            #Add unbalanced transaction to the queue\n",
    "            #The queue changes polarisation\n",
    "            qTransactions.append(t)\n",
    "            #logging.debug('Left element: %s',t.getInfo())\n",
    "     \n",
    "     \n",
    "    #If something remained in the queue, treat it as open or part-open transactions\n",
    "    while (len(qTransactions)>0):\n",
    "        tq=qTransactions.popleft()\n",
    "        #logging.debug('Remained on list transaction: %s',tq.getInfo())\n",
    "        \n",
    "    return trans_result\n",
    " \n",
    "def insertTransaction(dateStart,dateEnd,amount,priceStart,priceEnd):\n",
    "    #print(\"Bought={}, sold={},  amount={}, buy price={}, sell_price={}, gain={}\".\\\n",
    "    #        format(dateStart,dateEnd,amount,priceStart,priceEnd, amount*(priceEnd-priceStart)))\n",
    "    result = [dateStart,dateEnd,amount,priceStart,priceEnd, amount*(priceEnd-priceStart)]\n",
    "    return result"
   ]
  },
  {
   "cell_type": "markdown",
   "id": "92fd640d",
   "metadata": {},
   "source": [
    "### Gain Calculation for each Stock Code"
   ]
  },
  {
   "cell_type": "code",
   "execution_count": null,
   "id": "ee80e2b8",
   "metadata": {},
   "outputs": [],
   "source": [
    "trans_list=list()\n",
    "for i in range(0, df1.shape[0]):\n",
    "    trans = Trans(df1['Date'][i].date(), df1['Quantity'][i], df1['Unit Value ($)'][i])\n",
    "    trans_list.append(trans)\n",
    "trans_result = balanceFifo(trans_list)\n",
    "df1_capital = pd.DataFrame(trans_result, columns = ['Date Purchased', 'Date Sold', 'Quantity', 'Buy Price', 'Sell Price', 'Capital Gain'])\n",
    "df1_capital"
   ]
  },
  {
   "cell_type": "code",
   "execution_count": null,
   "id": "9df309b9",
   "metadata": {},
   "outputs": [],
   "source": [
    "print(df1['Code'][0], df1_capital['Capital Gain'].sum())"
   ]
  },
  {
   "cell_type": "code",
   "execution_count": null,
   "id": "70d1134b",
   "metadata": {},
   "outputs": [],
   "source": [
    "trans_list=list()\n",
    "for i in range(0, df2.shape[0]):\n",
    "    trans = Trans(df2['Date'][i].date(), df2['Quantity'][i], df2['Unit Value ($)'][i])\n",
    "    trans_list.append(trans)\n",
    "trans_result = balanceFifo(trans_list)\n",
    "df2_capital = pd.DataFrame(trans_result, columns = ['Date Purchased', 'Date Sold', 'Quantity', 'Buy Price', 'Sell Price', 'Capital Gain'])\n",
    "df2_capital"
   ]
  },
  {
   "cell_type": "code",
   "execution_count": null,
   "id": "507ae059",
   "metadata": {},
   "outputs": [],
   "source": [
    "print(df2['Code'][0], df2_capital['Capital Gain'].sum())"
   ]
  },
  {
   "cell_type": "code",
   "execution_count": null,
   "id": "6f237521",
   "metadata": {},
   "outputs": [],
   "source": [
    "trans_list=list()\n",
    "for i in range(0, df3.shape[0]):\n",
    "    trans = Trans(df3['Date'][i].date(), df3['Quantity'][i], df3['Unit Value ($)'][i])\n",
    "    trans_list.append(trans)\n",
    "trans_result = balanceFifo(trans_list)\n",
    "df3_capital = pd.DataFrame(trans_result, columns = ['Date Purchased', 'Date Sold', 'Quantity', 'Buy Price', 'Sell Price', 'Capital Gain'])\n",
    "df3_capital"
   ]
  },
  {
   "cell_type": "code",
   "execution_count": null,
   "id": "01da1759",
   "metadata": {},
   "outputs": [],
   "source": [
    "trans_list=list()\n",
    "for i in range(0, df4.shape[0]):\n",
    "    trans = Trans(df4['Date'][i].date(), df4['Quantity'][i], df4['Unit Value ($)'][i])\n",
    "    trans_list.append(trans)\n",
    "trans_result = balanceFifo(trans_list)\n",
    "df4_capital = pd.DataFrame(trans_result, columns = ['Date Purchased', 'Date Sold', 'Quantity', 'Buy Price', 'Sell Price', 'Capital Gain'])\n",
    "df4_capital"
   ]
  },
  {
   "cell_type": "code",
   "execution_count": null,
   "id": "891a2489",
   "metadata": {},
   "outputs": [],
   "source": [
    "trans_list=list()\n",
    "for i in range(0, df5.shape[0]):\n",
    "    trans = Trans(df5['Date'][i].date(), df5['Quantity'][i], df5['Unit Value ($)'][i])\n",
    "    trans_list.append(trans)\n",
    "trans_result = balanceFifo(trans_list)\n",
    "df5_capital = pd.DataFrame(trans_result, columns = ['Date Purchased', 'Date Sold', 'Quantity', 'Buy Price', 'Sell Price', 'Capital Gain'])\n",
    "df5_capital"
   ]
  },
  {
   "cell_type": "code",
   "execution_count": null,
   "id": "d237e9bf",
   "metadata": {},
   "outputs": [],
   "source": [
    "print(df5['Code'][0], df5_capital['Capital Gain'].sum())"
   ]
  },
  {
   "cell_type": "code",
   "execution_count": null,
   "id": "3dce56f1",
   "metadata": {},
   "outputs": [],
   "source": [
    "trans_list=list()\n",
    "for i in range(0, df6.shape[0]):\n",
    "    trans = Trans(df6['Date'][i].date(), df6['Quantity'][i], df6['Unit Value ($)'][i])\n",
    "    trans_list.append(trans)\n",
    "trans_result = balanceFifo(trans_list)\n",
    "df6_capital = pd.DataFrame(trans_result, columns = ['Date Purchased', 'Date Sold', 'Quantity', 'Buy Price', 'Sell Price', 'Capital Gain'])\n",
    "df6_capital"
   ]
  },
  {
   "cell_type": "code",
   "execution_count": null,
   "id": "b6e0d9ea",
   "metadata": {},
   "outputs": [],
   "source": []
  }
 ],
 "metadata": {
  "kernelspec": {
   "display_name": "Python 3 (ipykernel)",
   "language": "python",
   "name": "python3"
  },
  "language_info": {
   "codemirror_mode": {
    "name": "ipython",
    "version": 3
   },
   "file_extension": ".py",
   "mimetype": "text/x-python",
   "name": "python",
   "nbconvert_exporter": "python",
   "pygments_lexer": "ipython3",
   "version": "3.9.12"
  }
 },
 "nbformat": 4,
 "nbformat_minor": 5
}
