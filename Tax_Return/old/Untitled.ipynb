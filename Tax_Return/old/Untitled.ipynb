{
 "cells": [
  {
   "cell_type": "code",
   "execution_count": 6,
   "id": "beef4671",
   "metadata": {},
   "outputs": [],
   "source": [
    "import logging\n",
    "from collections import deque\n",
    "import math\n",
    " \n",
    "class Trans:\n",
    "    datetime=None\n",
    "    amount=None\n",
    "    price=None\n",
    " \n",
    "    def __init__(self, datetime, amount, price):\n",
    "        self.datetime=datetime\n",
    "        self.amount=amount\n",
    "        self.price=price\n",
    "     \n",
    "    def getInfo(self):\n",
    "        return(str(self.datetime)+\"; \"+\n",
    "                str(self.amount)+\"; \"+\n",
    "                str(self.price))+\"; \"\n",
    " \n",
    "def balanceFifo(all_trans):\n",
    " \n",
    "    qTransactions = deque() \n",
    " \n",
    "    for t in all_trans:\n",
    "        #Add first element to the queue\n",
    "        if len(qTransactions)==0:\n",
    "            logging.debug('Added the first element: %s',t.getInfo())\n",
    "            qTransactions.append(t)\n",
    "            continue\n",
    " \n",
    "        while (t.amount!=0 and len(qTransactions)>0):\n",
    "            #investigate the first element from the queue\n",
    "            tq=qTransactions.popleft()\n",
    "            #the same type of transaction: both sell or both buy\n",
    "            if tq.amount*t.amount>0:\n",
    "                #return the first element back to the same place\n",
    "                qTransactions.appendleft(tq)\n",
    "                #add the new element to the list\n",
    "                qTransactions.append(t)\n",
    "                logging.debug('Added: %s',t.getInfo())\n",
    "                break\n",
    "             \n",
    "            #contrary transactions: (sell and buy) or (buy and sell) \n",
    "            if tq.amount*t.amount<0:\n",
    "                logging.debug('Transaction : %s',t.getInfo())\n",
    "                logging.debug('... try to balance with: %s',tq.getInfo())\n",
    " \n",
    "                #The element in the queue have more units and takes in the current transaction\n",
    "                if abs(tq.amount)>abs(t.amount):\n",
    "                    insertTransaction(tq.datetime,t.datetime,\\\n",
    "                            math.copysign(t.amount,tq.amount), tq.price,t.price)\n",
    "                    #update the amount of the element in the queue\n",
    "                    tq.amount=tq.amount+t.amount\n",
    "                    #return the element back to the same place\n",
    "                    qTransactions.appendleft(tq)\n",
    "                    logging.debug('Removed transaction: %s',t.getInfo())\n",
    "                    #the transaction has been balanced, take a new transaction\n",
    "                    break\n",
    "                 \n",
    "                #The element from the queue and transaction have the same amount of units\n",
    "                if abs(tq.amount)==abs(t.amount):\n",
    "                    insertTransaction(tq.datetime,t.datetime,\\\n",
    "                            math.copysign(t.amount,tq.amount), tq.price,t.price)\n",
    "                     \n",
    "                    #update the amount in the transaction \n",
    "                    t.amount=0\n",
    "                    logging.debug('Balanced, removed transaction: %s',t.getInfo())\n",
    "                    logging.debug('Balanced, removed from the queue: %s',tq.getInfo())\n",
    "                    #the transaction has been balanced, take a new transaction\n",
    "                    continue\n",
    "                #The transaction has more units\n",
    "                if abs(tq.amount)<abs(t.amount):\n",
    "                    #update the units in transaction, (remove element from the queue)\n",
    "                    t.amount=t.amount+tq.amount\n",
    "                    insertTransaction(tq.datetime,t.datetime,tq.amount,tq.price,t.price)\n",
    "                    logging.debug('Removed from queue: %s',tq.getInfo())\n",
    "                     \n",
    "                    #the transaction has not been balanced, \n",
    "                    #take a new element from the queue (t.amount>0)\n",
    "                    continue\n",
    "                 \n",
    "        #We have unbalanced transaction but the queue is empty            \n",
    "        if (t.amount!=0 and len(qTransactions)==0):\n",
    "            #Add unbalanced transaction to the queue\n",
    "            #The queue changes polarisation\n",
    "            qTransactions.append(t)\n",
    "            logging.debug('Left element: %s',t.getInfo())\n",
    "     \n",
    "     \n",
    "    #If something remained in the queue, treat it as open or part-open transactions\n",
    "    while (len(qTransactions)>0):\n",
    "        tq=qTransactions.popleft()\n",
    "        logging.debug('Remained on list transaction: %s',tq.getInfo())\n",
    " \n",
    "def insertTransaction(dateStart,dateEnd,amount,priceStart,priceEnd):\n",
    "     \n",
    "    print(\"Bought={}, sold={},  amount={}, buy price={}, sell_price={}, gain={}\".\\\n",
    "            format(dateStart,dateEnd,amount,priceStart,priceEnd, amount*(priceEnd-priceStart)))\n",
    " \n",
    "#Uncomment if you want to see more information\n",
    "logging.basicConfig(level=logging.DEBUG)"
   ]
  },
  {
   "cell_type": "code",
   "execution_count": 37,
   "id": "10dac19e",
   "metadata": {},
   "outputs": [
    {
     "ename": "TypeError",
     "evalue": "list indices must be integers or slices, not tuple",
     "output_type": "error",
     "traceback": [
      "\u001b[1;31m---------------------------------------------------------------------------\u001b[0m",
      "\u001b[1;31mTypeError\u001b[0m                                 Traceback (most recent call last)",
      "Input \u001b[1;32mIn [37]\u001b[0m, in \u001b[0;36m<cell line: 2>\u001b[1;34m()\u001b[0m\n\u001b[0;32m      1\u001b[0m trans_list\u001b[38;5;241m=\u001b[39m\u001b[38;5;28mlist\u001b[39m()\n\u001b[1;32m----> 2\u001b[0m trans \u001b[38;5;241m=\u001b[39m \u001b[43mTrans\u001b[49m\u001b[43m[\u001b[49m\u001b[43m[\u001b[49m\u001b[38;5;124;43m\"\u001b[39;49m\u001b[38;5;124;43m2022-01-01\u001b[39;49m\u001b[38;5;124;43m\"\u001b[39;49m\u001b[43m,\u001b[49m\u001b[43m \u001b[49m\u001b[38;5;241;43m5\u001b[39;49m\u001b[43m,\u001b[49m\u001b[43m \u001b[49m\u001b[38;5;241;43m10\u001b[39;49m\u001b[43m]\u001b[49m\u001b[43m,\u001b[49m\u001b[43m \u001b[49m\u001b[43m[\u001b[49m\u001b[38;5;124;43m\"\u001b[39;49m\u001b[38;5;124;43m2022-01-02\u001b[39;49m\u001b[38;5;124;43m\"\u001b[39;49m\u001b[43m,\u001b[49m\u001b[38;5;241;43m5\u001b[39;49m\u001b[43m,\u001b[49m\u001b[38;5;241;43m12\u001b[39;49m\u001b[43m]\u001b[49m\u001b[43m,\u001b[49m\u001b[43m \u001b[49m\u001b[43m[\u001b[49m\u001b[38;5;124;43m\"\u001b[39;49m\u001b[38;5;124;43m2022-01-03\u001b[39;49m\u001b[38;5;124;43m\"\u001b[39;49m\u001b[43m,\u001b[49m\u001b[38;5;241;43m-\u001b[39;49m\u001b[38;5;241;43m5\u001b[39;49m\u001b[43m,\u001b[49m\u001b[38;5;241;43m12\u001b[39;49m\u001b[43m]\u001b[49m\u001b[43m,\u001b[49m\u001b[43m \u001b[49m\u001b[43m[\u001b[49m\u001b[38;5;124;43m\"\u001b[39;49m\u001b[38;5;124;43m2022-01-04\u001b[39;49m\u001b[38;5;124;43m\"\u001b[39;49m\u001b[43m,\u001b[49m\u001b[38;5;241;43m-\u001b[39;49m\u001b[38;5;241;43m5\u001b[39;49m\u001b[43m,\u001b[49m\u001b[38;5;241;43m14\u001b[39;49m\u001b[43m]\u001b[49m\u001b[43m]\u001b[49m\n\u001b[0;32m      3\u001b[0m trans_list\u001b[38;5;241m.\u001b[39mappend(trans)\n\u001b[0;32m      4\u001b[0m balanceFifo(trans_list)\n",
      "\u001b[1;31mTypeError\u001b[0m: list indices must be integers or slices, not tuple"
     ]
    }
   ],
   "source": [
    "trans_list=list()\n",
    "trans = Trans[[\"2022-01-01\", 5, 10], [\"2022-01-02\",5,12], [\"2022-01-03\",-5,12], [\"2022-01-04\",-5,14]]\n",
    "trans_list.append(trans)\n",
    "balanceFifo(trans_list)"
   ]
  },
  {
   "cell_type": "code",
   "execution_count": 29,
   "id": "3b9a35dd",
   "metadata": {},
   "outputs": [
    {
     "name": "stdout",
     "output_type": "stream",
     "text": [
      "Case 1\n",
      "Bought=2022-01-01, sold=2022-01-03,  amount=5.0, buy price=10, sell_price=12, gain=10.0\n",
      "Bought=2022-01-02, sold=2022-01-04,  amount=5.0, buy price=12, sell_price=14, gain=10.0\n"
     ]
    }
   ],
   "source": [
    "#Case 1\n",
    "print(\"Case 1\")\n",
    "trans=Trans(\"2022-01-01\",5,10)\n",
    "trans_list.append(trans)\n",
    "trans=Trans(\"2022-01-02\",5,12)\n",
    "trans_list.append(trans)\n",
    "trans=Trans(\"2022-01-03\",-5,12)\n",
    "trans_list.append(trans)\n",
    "trans=Trans(\"2022-01-04\",-5,14)\n",
    "trans_list.append(trans)\n",
    "trans_list\n",
    "balanceFifo(trans_list)\n",
    "trans_list.clear()"
   ]
  },
  {
   "cell_type": "code",
   "execution_count": 30,
   "id": "7116ba03",
   "metadata": {},
   "outputs": [
    {
     "name": "stdout",
     "output_type": "stream",
     "text": [
      "Case 2\n",
      "Bought=2022-01-01, sold=2022-01-03,  amount=2.0, buy price=10, sell_price=12, gain=4.0\n",
      "Bought=2022-01-01, sold=2022-01-04,  amount=3, buy price=10, sell_price=14, gain=12\n",
      "Bought=2022-01-02, sold=2022-01-04,  amount=5.0, buy price=12, sell_price=14, gain=10.0\n"
     ]
    }
   ],
   "source": [
    "#Case 2\n",
    "print(\"Case 2\")\n",
    "trans=Trans(\"2022-01-01\",5,10)\n",
    "trans_list.append(trans)\n",
    "trans=Trans(\"2022-01-02\",5,12)\n",
    "trans_list.append(trans)\n",
    "trans=Trans(\"2022-01-03\",-2,12)\n",
    "trans_list.append(trans)\n",
    "trans=Trans(\"2022-01-04\",-8,14)\n",
    "trans_list.append(trans)\n",
    "trans_list\n",
    "balanceFifo(trans_list)\n",
    "trans_list.clear()"
   ]
  },
  {
   "cell_type": "code",
   "execution_count": 31,
   "id": "17174fb2",
   "metadata": {},
   "outputs": [
    {
     "name": "stdout",
     "output_type": "stream",
     "text": [
      "Case 3\n",
      "Bought=2022-01-01, sold=2022-01-03,  amount=5, buy price=10, sell_price=12, gain=10\n",
      "Bought=2022-01-02, sold=2022-01-03,  amount=3.0, buy price=12, sell_price=12, gain=0.0\n",
      "Bought=2022-01-02, sold=2022-01-04,  amount=2.0, buy price=12, sell_price=14, gain=4.0\n"
     ]
    }
   ],
   "source": [
    "trans_list.clear()\n",
    "#Case 3\n",
    "print(\"Case 3\")\n",
    "trans=Trans(\"2022-01-01\",5,10)\n",
    "trans_list.append(trans)\n",
    "trans=Trans(\"2022-01-02\",5,12)\n",
    "trans_list.append(trans)\n",
    "trans=Trans(\"2022-01-03\",-8,12)\n",
    "trans_list.append(trans)\n",
    "trans=Trans(\"2022-01-04\",-2,14)\n",
    "trans_list.append(trans)\n",
    "balanceFifo(trans_list)\n",
    "trans_list.clear()"
   ]
  },
  {
   "cell_type": "code",
   "execution_count": null,
   "id": "4fc76153",
   "metadata": {},
   "outputs": [],
   "source": []
  }
 ],
 "metadata": {
  "kernelspec": {
   "display_name": "Python 3 (ipykernel)",
   "language": "python",
   "name": "python3"
  },
  "language_info": {
   "codemirror_mode": {
    "name": "ipython",
    "version": 3
   },
   "file_extension": ".py",
   "mimetype": "text/x-python",
   "name": "python",
   "nbconvert_exporter": "python",
   "pygments_lexer": "ipython3",
   "version": "3.9.12"
  }
 },
 "nbformat": 4,
 "nbformat_minor": 5
}
